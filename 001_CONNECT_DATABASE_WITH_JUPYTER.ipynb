{
 "cells": [
  {
   "cell_type": "code",
   "execution_count": 17,
   "metadata": {
    "scrolled": false
   },
   "outputs": [
    {
     "name": "stdout",
     "output_type": "stream",
     "text": [
      "Connected to Oracle: 11.2.0.4.0\n"
     ]
    },
    {
     "data": {
      "text/html": [
       "<div>\n",
       "<style scoped>\n",
       "    .dataframe tbody tr th:only-of-type {\n",
       "        vertical-align: middle;\n",
       "    }\n",
       "\n",
       "    .dataframe tbody tr th {\n",
       "        vertical-align: top;\n",
       "    }\n",
       "\n",
       "    .dataframe thead th {\n",
       "        text-align: right;\n",
       "    }\n",
       "</style>\n",
       "<table border=\"1\" class=\"dataframe\">\n",
       "  <thead>\n",
       "    <tr style=\"text-align: right;\">\n",
       "      <th></th>\n",
       "      <th>DAT_MOVIMENTO</th>\n",
       "      <th>COD_OPERADORA</th>\n",
       "      <th>NUM_CONTRATO</th>\n",
       "      <th>NUM_CPF_CNPJ</th>\n",
       "      <th>DAT_NASCIMENTO</th>\n",
       "      <th>DSC_EMAIL</th>\n",
       "      <th>NUM_TELEFONE_RESIDENCIAL</th>\n",
       "      <th>NUM_TELEFONE_COMERCIAL</th>\n",
       "      <th>NUM_TELEFONE_OUTROS</th>\n",
       "      <th>NUM_CELULAR</th>\n",
       "      <th>...</th>\n",
       "      <th>QTD_TP_EQP_DECODER_NET</th>\n",
       "      <th>QTD_TP_EQP_HOMEGAT_NET</th>\n",
       "      <th>QTD_TP_EQP_CONV_CANAIS_NET</th>\n",
       "      <th>QTD_TP_EQP_TRAP_NET</th>\n",
       "      <th>QTD_TP_EQP_CABLE_MODEM_NET</th>\n",
       "      <th>QTD_TP_EQP_TEL_NET</th>\n",
       "      <th>DAT_CRIACAO</th>\n",
       "      <th>DSC_TIPO_COBRANCA</th>\n",
       "      <th>FLG_CM_LEGADO</th>\n",
       "      <th>DSC_TIPO_SEGMENTO</th>\n",
       "    </tr>\n",
       "  </thead>\n",
       "  <tbody>\n",
       "    <tr>\n",
       "      <th>0</th>\n",
       "      <td>2019-08-01</td>\n",
       "      <td>3</td>\n",
       "      <td>255</td>\n",
       "      <td>02569530000180</td>\n",
       "      <td>2001-01-01</td>\n",
       "      <td>seguna@seguna.com.br</td>\n",
       "      <td>1123593069</td>\n",
       "      <td>1123593069</td>\n",
       "      <td>1123593069</td>\n",
       "      <td>11996693622</td>\n",
       "      <td>...</td>\n",
       "      <td>0</td>\n",
       "      <td>0</td>\n",
       "      <td>0</td>\n",
       "      <td>0</td>\n",
       "      <td>0</td>\n",
       "      <td>0</td>\n",
       "      <td>2019-09-17</td>\n",
       "      <td>BOLETO</td>\n",
       "      <td>1</td>\n",
       "      <td>PURPLE PME PF</td>\n",
       "    </tr>\n",
       "  </tbody>\n",
       "</table>\n",
       "<p>1 rows × 250 columns</p>\n",
       "</div>"
      ],
      "text/plain": [
       "  DAT_MOVIMENTO  COD_OPERADORA  NUM_CONTRATO    NUM_CPF_CNPJ DAT_NASCIMENTO  \\\n",
       "0    2019-08-01              3           255  02569530000180     2001-01-01   \n",
       "\n",
       "              DSC_EMAIL  NUM_TELEFONE_RESIDENCIAL  NUM_TELEFONE_COMERCIAL  \\\n",
       "0  seguna@seguna.com.br                1123593069              1123593069   \n",
       "\n",
       "   NUM_TELEFONE_OUTROS  NUM_CELULAR        ...         QTD_TP_EQP_DECODER_NET  \\\n",
       "0           1123593069  11996693622        ...                              0   \n",
       "\n",
       "  QTD_TP_EQP_HOMEGAT_NET  QTD_TP_EQP_CONV_CANAIS_NET QTD_TP_EQP_TRAP_NET  \\\n",
       "0                      0                           0                   0   \n",
       "\n",
       "  QTD_TP_EQP_CABLE_MODEM_NET QTD_TP_EQP_TEL_NET DAT_CRIACAO DSC_TIPO_COBRANCA  \\\n",
       "0                          0                  0  2019-09-17            BOLETO   \n",
       "\n",
       "  FLG_CM_LEGADO DSC_TIPO_SEGMENTO  \n",
       "0             1     PURPLE PME PF  \n",
       "\n",
       "[1 rows x 250 columns]"
      ]
     },
     "execution_count": 17,
     "metadata": {},
     "output_type": "execute_result"
    }
   ],
   "source": [
    "import cx_Oracle\n",
    "import pandas as pd\n",
    "ORACLE_CONNECT = \"u92277452/carlos#201911@(DESCRIPTION=(SOURCE_ROUTE=OFF)(ADDRESS_LIST=(ADDRESS=(PROTOCOL=TCP)(HOST=172.25.35.33)(PORT=1521)))(CONNECT_DATA=(SERVICE_NAME = P00DW1)))\"\n",
    "\n",
    "orcl = cx_Oracle.connect(ORACLE_CONNECT)\n",
    "print(\"Connected to Oracle: \" + orcl.version)\n",
    "\n",
    "#sql = \"select * from ops_alteryx.bi_fp_contrato_net where rownum <= 1\"\n",
    "#curs = orcl.cursor()\n",
    "#curs.execute(sql)\n",
    "\n",
    "#for row in curs:\n",
    " #   print(row)\n",
    "    \n",
    "query =  \"select * from ops_alteryx.bi_fp_contrato_net where rownum <= 1\"   \n",
    "df_ora = pd.read_sql(query, con=orcl)\n",
    "#print(df_ora)\n",
    "df_ora.head()"
   ]
  },
  {
   "cell_type": "code",
   "execution_count": null,
   "metadata": {},
   "outputs": [],
   "source": []
  }
 ],
 "metadata": {
  "kernelspec": {
   "display_name": "Python 3",
   "language": "python",
   "name": "python3"
  },
  "language_info": {
   "codemirror_mode": {
    "name": "ipython",
    "version": 3
   },
   "file_extension": ".py",
   "mimetype": "text/x-python",
   "name": "python",
   "nbconvert_exporter": "python",
   "pygments_lexer": "ipython3",
   "version": "3.6.5"
  }
 },
 "nbformat": 4,
 "nbformat_minor": 2
}
